{
 "cells": [
  {
   "cell_type": "code",
   "execution_count": 1,
   "metadata": {},
   "outputs": [],
   "source": [
    "import pandas as pd\n",
    "import numpy as np"
   ]
  },
  {
   "cell_type": "code",
   "execution_count": null,
   "metadata": {},
   "outputs": [
    {
     "data": {
      "text/plain": [
       "Index(['EVENT', 'BOUT', 'ROUND', 'FIGHTER', 'KD', 'SIG.STR.', 'SIG.STR. %',\n",
       "       'TOTAL STR.', 'TD', 'TD %', 'SUB.ATT', 'REV.', 'CTRL', 'HEAD', 'BODY',\n",
       "       'LEG', 'DISTANCE', 'CLINCH', 'GROUND'],\n",
       "      dtype='object')"
      ]
     },
     "execution_count": 13,
     "metadata": {},
     "output_type": "execute_result"
    }
   ],
   "source": [
    "path1 = \"Data/ufc_fight_stats.csv\"\n",
    "stats1 = pd.read_csv(path1)\n",
    "df1 = stats1\n",
    "\n",
    "df1.columns"
   ]
  },
  {
   "cell_type": "code",
   "execution_count": 14,
   "metadata": {},
   "outputs": [
    {
     "data": {
      "text/plain": [
       "(37702, 19)"
      ]
     },
     "execution_count": 14,
     "metadata": {},
     "output_type": "execute_result"
    }
   ],
   "source": [
    "df1.shape"
   ]
  },
  {
   "cell_type": "code",
   "execution_count": 25,
   "metadata": {},
   "outputs": [
    {
     "data": {
      "text/plain": [
       "0        Alex Pereira vs. Magomed Ankalaev\n",
       "1        Alex Pereira vs. Magomed Ankalaev\n",
       "2        Alex Pereira vs. Magomed Ankalaev\n",
       "3        Alex Pereira vs. Magomed Ankalaev\n",
       "4        Alex Pereira vs. Magomed Ankalaev\n",
       "                       ...                \n",
       "37697      Johnny Rhodes vs. David Levicki\n",
       "37698         Patrick Smith vs. Ray Wizard\n",
       "37699         Patrick Smith vs. Ray Wizard\n",
       "37700      Scott Morris vs. Sean Daugherty\n",
       "37701      Scott Morris vs. Sean Daugherty\n",
       "Name: BOUT, Length: 37702, dtype: object"
      ]
     },
     "execution_count": 25,
     "metadata": {},
     "output_type": "execute_result"
    }
   ],
   "source": [
    "df1['BOUT']"
   ]
  },
  {
   "cell_type": "code",
   "execution_count": 21,
   "metadata": {},
   "outputs": [
    {
     "data": {
      "text/plain": [
       "FIGHTER\n",
       "Rafael Dos Anjos      111\n",
       "Jim Miller            100\n",
       "Frankie Edgar          99\n",
       "Max Holloway           95\n",
       "Andrei Arlovski        95\n",
       "                     ... \n",
       "Solomon Hutcherson      1\n",
       "Rick Davis              1\n",
       "Derrick Noble           1\n",
       "Steve Vigneault         1\n",
       "Sean Daugherty          1\n",
       "Name: count, Length: 2575, dtype: int64"
      ]
     },
     "execution_count": 21,
     "metadata": {},
     "output_type": "execute_result"
    }
   ],
   "source": [
    "df1['FIGHTER'].value_counts()"
   ]
  },
  {
   "cell_type": "code",
   "execution_count": null,
   "metadata": {},
   "outputs": [
    {
     "data": {
      "text/plain": [
       "FIGHTER\n",
       "Donald Cerrone         20.0\n",
       "Anderson Silva         18.0\n",
       "Jeremy Stephens        18.0\n",
       "Edson Barboza          16.0\n",
       "Dustin Poirier         14.0\n",
       "Chuck Liddell          14.0\n",
       "Thiago Santos          14.0\n",
       "Lyoto Machida          14.0\n",
       "Mauricio Rua           14.0\n",
       "Junior Dos Santos      14.0\n",
       "Anthony Johnson        13.0\n",
       "Conor McGregor         13.0\n",
       "Khalil Rountree Jr.    13.0\n",
       "Melvin Guillard        13.0\n",
       "Israel Adesanya        13.0\n",
       "Thiago Alves           13.0\n",
       "Josh Emmett            12.0\n",
       "John Lineker           12.0\n",
       "Michael Johnson        12.0\n",
       "Nate Marquardt         12.0\n",
       "Name: KD, dtype: float64"
      ]
     },
     "execution_count": 23,
     "metadata": {},
     "output_type": "execute_result"
    }
   ],
   "source": [
    "df1.groupby('FIGHTER')['KD'].sum().sort_values(ascending=False).head(20) # KD = total knockdowns "
   ]
  },
  {
   "cell_type": "code",
   "execution_count": 24,
   "metadata": {},
   "outputs": [
    {
     "data": {
      "text/plain": [
       "ROUND\n",
       "Round 1    0.125360\n",
       "Round 2    0.077739\n",
       "Round 3    0.051131\n",
       "Round 4    0.043662\n",
       "Round 5    0.040584\n",
       "Name: KD, dtype: float64"
      ]
     },
     "execution_count": 24,
     "metadata": {},
     "output_type": "execute_result"
    }
   ],
   "source": [
    "df1.groupby('ROUND')['KD'].mean()"
   ]
  },
  {
   "cell_type": "code",
   "execution_count": 31,
   "metadata": {},
   "outputs": [
    {
     "data": {
      "text/html": [
       "<div>\n",
       "<style scoped>\n",
       "    .dataframe tbody tr th:only-of-type {\n",
       "        vertical-align: middle;\n",
       "    }\n",
       "\n",
       "    .dataframe tbody tr th {\n",
       "        vertical-align: top;\n",
       "    }\n",
       "\n",
       "    .dataframe thead th {\n",
       "        text-align: right;\n",
       "    }\n",
       "</style>\n",
       "<table border=\"1\" class=\"dataframe\">\n",
       "  <thead>\n",
       "    <tr style=\"text-align: right;\">\n",
       "      <th></th>\n",
       "      <th>Total Knockdowns</th>\n",
       "      <th>Total Bouts</th>\n",
       "      <th>KD per Fight</th>\n",
       "    </tr>\n",
       "    <tr>\n",
       "      <th>FIGHTER</th>\n",
       "      <th></th>\n",
       "      <th></th>\n",
       "      <th></th>\n",
       "    </tr>\n",
       "  </thead>\n",
       "  <tbody>\n",
       "    <tr>\n",
       "      <th>Jose Delgado</th>\n",
       "      <td>1.0</td>\n",
       "      <td>1</td>\n",
       "      <td>1.000000</td>\n",
       "    </tr>\n",
       "    <tr>\n",
       "      <th>Tallison Teixeira</th>\n",
       "      <td>1.0</td>\n",
       "      <td>1</td>\n",
       "      <td>1.000000</td>\n",
       "    </tr>\n",
       "    <tr>\n",
       "      <th>Gokhan Saki</th>\n",
       "      <td>2.0</td>\n",
       "      <td>2</td>\n",
       "      <td>1.000000</td>\n",
       "    </tr>\n",
       "    <tr>\n",
       "      <th>Quillan Salkilld</th>\n",
       "      <td>1.0</td>\n",
       "      <td>1</td>\n",
       "      <td>1.000000</td>\n",
       "    </tr>\n",
       "    <tr>\n",
       "      <th>Marco Tulio</th>\n",
       "      <td>1.0</td>\n",
       "      <td>1</td>\n",
       "      <td>1.000000</td>\n",
       "    </tr>\n",
       "    <tr>\n",
       "      <th>Dean Barry</th>\n",
       "      <td>1.0</td>\n",
       "      <td>1</td>\n",
       "      <td>1.000000</td>\n",
       "    </tr>\n",
       "    <tr>\n",
       "      <th>Flavio Luiz Moura</th>\n",
       "      <td>1.0</td>\n",
       "      <td>1</td>\n",
       "      <td>1.000000</td>\n",
       "    </tr>\n",
       "    <tr>\n",
       "      <th>DongHun Choi</th>\n",
       "      <td>1.0</td>\n",
       "      <td>1</td>\n",
       "      <td>1.000000</td>\n",
       "    </tr>\n",
       "    <tr>\n",
       "      <th>Jason Fairn</th>\n",
       "      <td>1.0</td>\n",
       "      <td>1</td>\n",
       "      <td>1.000000</td>\n",
       "    </tr>\n",
       "    <tr>\n",
       "      <th>Zhang Mingyang</th>\n",
       "      <td>2.0</td>\n",
       "      <td>2</td>\n",
       "      <td>1.000000</td>\n",
       "    </tr>\n",
       "    <tr>\n",
       "      <th>Jacobe Smith</th>\n",
       "      <td>1.0</td>\n",
       "      <td>1</td>\n",
       "      <td>1.000000</td>\n",
       "    </tr>\n",
       "    <tr>\n",
       "      <th>Carlos Prates</th>\n",
       "      <td>6.0</td>\n",
       "      <td>6</td>\n",
       "      <td>1.000000</td>\n",
       "    </tr>\n",
       "    <tr>\n",
       "      <th>Jonny Parsons</th>\n",
       "      <td>2.0</td>\n",
       "      <td>2</td>\n",
       "      <td>1.000000</td>\n",
       "    </tr>\n",
       "    <tr>\n",
       "      <th>Ramazan Temirov</th>\n",
       "      <td>3.0</td>\n",
       "      <td>4</td>\n",
       "      <td>0.750000</td>\n",
       "    </tr>\n",
       "    <tr>\n",
       "      <th>Mike Kyle</th>\n",
       "      <td>2.0</td>\n",
       "      <td>3</td>\n",
       "      <td>0.666667</td>\n",
       "    </tr>\n",
       "    <tr>\n",
       "      <th>Semmy Schilt</th>\n",
       "      <td>2.0</td>\n",
       "      <td>3</td>\n",
       "      <td>0.666667</td>\n",
       "    </tr>\n",
       "    <tr>\n",
       "      <th>Sergei Pavlovich</th>\n",
       "      <td>7.0</td>\n",
       "      <td>11</td>\n",
       "      <td>0.636364</td>\n",
       "    </tr>\n",
       "    <tr>\n",
       "      <th>Chris Daukaus</th>\n",
       "      <td>6.0</td>\n",
       "      <td>10</td>\n",
       "      <td>0.600000</td>\n",
       "    </tr>\n",
       "    <tr>\n",
       "      <th>Drew McFedries</th>\n",
       "      <td>6.0</td>\n",
       "      <td>10</td>\n",
       "      <td>0.600000</td>\n",
       "    </tr>\n",
       "    <tr>\n",
       "      <th>Mauricio Ruffy</th>\n",
       "      <td>3.0</td>\n",
       "      <td>5</td>\n",
       "      <td>0.600000</td>\n",
       "    </tr>\n",
       "  </tbody>\n",
       "</table>\n",
       "</div>"
      ],
      "text/plain": [
       "                   Total Knockdowns  Total Bouts  KD per Fight\n",
       "FIGHTER                                                       \n",
       "Jose Delgado                    1.0            1      1.000000\n",
       "Tallison Teixeira               1.0            1      1.000000\n",
       "Gokhan Saki                     2.0            2      1.000000\n",
       "Quillan Salkilld                1.0            1      1.000000\n",
       "Marco Tulio                     1.0            1      1.000000\n",
       "Dean Barry                      1.0            1      1.000000\n",
       "Flavio Luiz Moura               1.0            1      1.000000\n",
       "DongHun Choi                    1.0            1      1.000000\n",
       "Jason Fairn                     1.0            1      1.000000\n",
       "Zhang Mingyang                  2.0            2      1.000000\n",
       "Jacobe Smith                    1.0            1      1.000000\n",
       "Carlos Prates                   6.0            6      1.000000\n",
       "Jonny Parsons                   2.0            2      1.000000\n",
       "Ramazan Temirov                 3.0            4      0.750000\n",
       "Mike Kyle                       2.0            3      0.666667\n",
       "Semmy Schilt                    2.0            3      0.666667\n",
       "Sergei Pavlovich                7.0           11      0.636364\n",
       "Chris Daukaus                   6.0           10      0.600000\n",
       "Drew McFedries                  6.0           10      0.600000\n",
       "Mauricio Ruffy                  3.0            5      0.600000"
      ]
     },
     "execution_count": 31,
     "metadata": {},
     "output_type": "execute_result"
    }
   ],
   "source": [
    "# Count total knockdowns per fighter\n",
    "kd_per_fighter = df1.groupby('FIGHTER')['KD'].sum()\n",
    "\n",
    "# Count total fights per fighter\n",
    "bouts_per_fighter = df1.groupby('FIGHTER')['BOUT'].count()\n",
    "\n",
    "# Compute Knockdowns per Fight Rate\n",
    "kd_rate = kd_per_fighter / bouts_per_fighter\n",
    "\n",
    "# Create a DataFrame with all three values\n",
    "kd_summary = pd.DataFrame({\n",
    "    'Total Knockdowns': kd_per_fighter,\n",
    "    'Total Bouts': bouts_per_fighter,\n",
    "    'KD per Fight': kd_rate\n",
    "})\n",
    "\n",
    "# Sort by Knockdown Rate and display top 20\n",
    "kd_summary = kd_summary.sort_values(by='KD per Fight', ascending=False)\n",
    "kd_summary.head(20)"
   ]
  }
 ],
 "metadata": {
  "kernelspec": {
   "display_name": "block_d",
   "language": "python",
   "name": "python3"
  },
  "language_info": {
   "codemirror_mode": {
    "name": "ipython",
    "version": 3
   },
   "file_extension": ".py",
   "mimetype": "text/x-python",
   "name": "python",
   "nbconvert_exporter": "python",
   "pygments_lexer": "ipython3",
   "version": "3.12.3"
  }
 },
 "nbformat": 4,
 "nbformat_minor": 2
}
